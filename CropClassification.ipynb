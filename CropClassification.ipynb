{
  "nbformat": 4,
  "nbformat_minor": 0,
  "metadata": {
    "colab": {
      "provenance": [],
      "gpuType": "T4",
      "authorship_tag": "ABX9TyPgrKq0SaEfq7A11YpT6xfL",
      "include_colab_link": true
    },
    "kernelspec": {
      "name": "python3",
      "display_name": "Python 3"
    },
    "language_info": {
      "name": "python"
    },
    "accelerator": "GPU"
  },
  "cells": [
    {
      "cell_type": "markdown",
      "metadata": {
        "id": "view-in-github",
        "colab_type": "text"
      },
      "source": [
        "<a href=\"https://colab.research.google.com/github/EldarAlimov/Pet-Projects/blob/main/CropClassification.ipynb\" target=\"_parent\"><img src=\"https://colab.research.google.com/assets/colab-badge.svg\" alt=\"Open In Colab\"/></a>"
      ]
    },
    {
      "cell_type": "code",
      "execution_count": null,
      "metadata": {
        "colab": {
          "base_uri": "https://localhost:8080/"
        },
        "id": "S4Hvu44Zh9qY",
        "outputId": "63c5ede2-cf58-4060-dec1-8f3ffcd38410"
      },
      "outputs": [
        {
          "output_type": "stream",
          "name": "stdout",
          "text": [
            "Mounted at /content/drive\n"
          ]
        }
      ],
      "source": [
        "from google.colab import drive\n",
        "drive.mount('/content/drive')"
      ]
    },
    {
      "cell_type": "code",
      "source": [
        "import os\n",
        "import pandas as pd\n",
        "import torch\n",
        "import torch.nn as nn\n",
        "import torch.optim as optim\n",
        "from torch.utils.data import DataLoader, Dataset\n",
        "from torchvision import transforms, models\n",
        "from PIL import Image"
      ],
      "metadata": {
        "id": "ehy6I7H6k0-m"
      },
      "execution_count": null,
      "outputs": []
    },
    {
      "cell_type": "code",
      "source": [
        "import zipfile\n",
        "import os\n",
        "\n",
        "train_zip = '/content/drive/My Drive/CropDatasets/train.zip'\n",
        "test_zip = '/content/drive/My Drive/CropDatasets/test.zip'\n",
        "\n",
        "extract_dir = '/content/dataset'\n",
        "\n",
        "os.makedirs(extract_dir, exist_ok=True)\n",
        "\n",
        "with zipfile.ZipFile(train_zip, 'r') as zip_ref:\n",
        "    zip_ref.extractall(os.path.join(extract_dir, 'train'))\n",
        "\n",
        "with zipfile.ZipFile(test_zip, 'r') as zip_ref:\n",
        "    zip_ref.extractall(os.path.join(extract_dir, 'test'))"
      ],
      "metadata": {
        "id": "y3XEQ9SCk8m3"
      },
      "execution_count": null,
      "outputs": []
    },
    {
      "cell_type": "code",
      "source": [
        "train_dir = '/content/dataset/train/train'\n",
        "test_dir = '/content/dataset/test'\n",
        "\n",
        "print(\"Train directory contents:\")\n",
        "print(os.listdir(train_dir))\n",
        "\n",
        "print(\"\\nTest directory contents:\")\n",
        "print(os.listdir(test_dir))"
      ],
      "metadata": {
        "colab": {
          "base_uri": "https://localhost:8080/"
        },
        "id": "-p2Jsx3isOWG",
        "outputId": "ef0d2430-509c-4448-c173-7bd5ebde16b7"
      },
      "execution_count": null,
      "outputs": [
        {
          "output_type": "stream",
          "name": "stdout",
          "text": [
            "Train directory contents:\n",
            "['images', 'train.csv', '.DS_Store']\n",
            "\n",
            "Test directory contents:\n",
            "['__MACOSX', 'test']\n"
          ]
        }
      ]
    },
    {
      "cell_type": "code",
      "source": [
        "class CropDataset(Dataset):\n",
        "    def __init__(self, csv_file, root_dir, transform=None, class_to_idx=None, idx_to_class=None):\n",
        "        self.data = pd.read_csv(csv_file)\n",
        "\n",
        "\n",
        "        self.data = self.data.dropna(subset=['class'])\n",
        "        valid_classes = set(class_to_idx.keys())\n",
        "        self.data = self.data[self.data['class'].isin(valid_classes)]\n",
        "\n",
        "        self.root_dir = root_dir\n",
        "        self.transform = transform\n",
        "        self.class_to_idx = class_to_idx\n",
        "        self.idx_to_class = idx_to_class\n",
        "\n",
        "    def __len__(self):\n",
        "        return len(self.data)\n",
        "\n",
        "    def __getitem__(self, idx):\n",
        "        img_name = os.path.join(self.root_dir, self.data.iloc[idx, 0])\n",
        "        image = Image.open(img_name).convert(\"RGB\")\n",
        "        label = self.data.iloc[idx, 1]\n",
        "        if self.class_to_idx:\n",
        "            label = self.class_to_idx[label]\n",
        "        if self.transform:\n",
        "            image = self.transform(image)\n",
        "        return image, label\n"
      ],
      "metadata": {
        "id": "XPZ_LzjTrAy0"
      },
      "execution_count": null,
      "outputs": []
    },
    {
      "cell_type": "code",
      "source": [
        "train_csv = '/content/dataset/train/train/train.csv'\n",
        "train_images ='/content/dataset/train/train/images'\n",
        "test_csv = '/content/dataset/test/test/test.csv'\n",
        "test_images ='/content/dataset/test/test/images'\n",
        "\n",
        "transform = transforms.Compose([\n",
        "    transforms.Resize((224, 224)),\n",
        "    transforms.ToTensor(),\n",
        "    transforms.Normalize(mean=[0.485, 0.456, 0.406], std=[0.229, 0.224, 0.225])\n",
        "])\n",
        "\n",
        "class_to_idx = {'flax': 0, 'wheat': 1, 'oats': 2, 'barley': 3}\n",
        "idx_to_class = {0:'flax', 1: 'wheat', 2:'oats', 3:'barley'}\n"
      ],
      "metadata": {
        "id": "_dl4qoFmrKT0"
      },
      "execution_count": null,
      "outputs": []
    },
    {
      "cell_type": "code",
      "source": [
        "train_dataset = CropDataset(\n",
        "    csv_file=train_csv,\n",
        "    root_dir=train_images,\n",
        "    transform=transform,\n",
        "    class_to_idx=class_to_idx,\n",
        "    idx_to_class=idx_to_class\n",
        ")\n",
        "\n",
        "test_dataset = CropDataset(\n",
        "    csv_file=test_csv,\n",
        "    root_dir=test_images,\n",
        "    transform=transform,\n",
        "    class_to_idx=class_to_idx,\n",
        "    idx_to_class=idx_to_class\n",
        ")\n",
        "\n",
        "train_loader = DataLoader(train_dataset, batch_size=32, shuffle=True)\n",
        "test_loader = DataLoader(test_dataset, batch_size=32, shuffle=False)\n",
        "\n",
        "#train_dataset.data['class'] = train_dataset.data['class'].map(class_to_idx)\n",
        "#test_dataset.data['class'] = test_dataset.data['class'].map(class_to_idx)\n",
        "\n",
        "\n",
        "print(train_dataset.data.head())\n"
      ],
      "metadata": {
        "id": "RtPiAra3uKxp",
        "colab": {
          "base_uri": "https://localhost:8080/"
        },
        "outputId": "e44d30b4-75a9-41e9-e2ab-9021e77d82f0"
      },
      "execution_count": null,
      "outputs": [
        {
          "output_type": "stream",
          "name": "stdout",
          "text": [
            "                                            img   class\n",
            "0  niwlxswqmehvazrydmoghchajsvmjmkhypzkyqga.jpg   wheat\n",
            "1  ivkvufzmpjagkwtcaimkzaeuuvgpsnggjrexgbzh.jpg  barley\n",
            "2  qczfljfahddkmpzcbxnhvrouritxrltypgvllbzh.jpg   wheat\n",
            "3  tpctjrjupgejtkbmqerqxxpxdjfzylmczevppnla.jpg   wheat\n",
            "4  pdoxmibknwaldsrnnuewdvnatkxkcpemnpolfcwy.jpg    flax\n"
          ]
        }
      ]
    },
    {
      "cell_type": "code",
      "source": [
        "device = torch.device(\"cuda\" if torch.cuda.is_available() else \"cpu\")\n",
        "model = models.resnet18(pretrained=True)\n",
        "\n",
        "num_classes = 4\n",
        "model.fc = nn.Linear(model.fc.in_features, num_classes)\n",
        "model = model.to(device)\n",
        "\n",
        "\n",
        "criterion = nn.CrossEntropyLoss()\n",
        "optimizer = optim.Adam(model.parameters(), lr=0.001)\n"
      ],
      "metadata": {
        "collapsed": true,
        "id": "tBcYaTZQwb52",
        "colab": {
          "base_uri": "https://localhost:8080/"
        },
        "outputId": "99d7fc30-1e51-4710-a695-f0dfe4a324f0"
      },
      "execution_count": null,
      "outputs": [
        {
          "output_type": "stream",
          "name": "stderr",
          "text": [
            "/usr/local/lib/python3.10/dist-packages/torchvision/models/_utils.py:208: UserWarning: The parameter 'pretrained' is deprecated since 0.13 and may be removed in the future, please use 'weights' instead.\n",
            "  warnings.warn(\n",
            "/usr/local/lib/python3.10/dist-packages/torchvision/models/_utils.py:223: UserWarning: Arguments other than a weight enum or `None` for 'weights' are deprecated since 0.13 and may be removed in the future. The current behavior is equivalent to passing `weights=ResNet18_Weights.IMAGENET1K_V1`. You can also use `weights=ResNet18_Weights.DEFAULT` to get the most up-to-date weights.\n",
            "  warnings.warn(msg)\n"
          ]
        }
      ]
    },
    {
      "cell_type": "code",
      "source": [
        "num_epochs = 30\n",
        "model.train()\n",
        "\n",
        "for epoch in range(num_epochs):\n",
        "    total_loss = 0\n",
        "    for images, labels in train_loader:\n",
        "        images = images.to(device)\n",
        "        labels = torch.tensor(labels, dtype=torch.long).to(device)\n",
        "\n",
        "        outputs = model(images)\n",
        "        loss = criterion(outputs, labels)\n",
        "\n",
        "        optimizer.zero_grad()\n",
        "        loss.backward()\n",
        "        optimizer.step()\n",
        "\n",
        "        total_loss += loss.item()\n",
        "\n",
        "    print(f\"Epoch [{epoch+1}/{num_epochs}], Loss: {total_loss:.4f}\")\n"
      ],
      "metadata": {
        "colab": {
          "base_uri": "https://localhost:8080/"
        },
        "id": "5ONJW3pVw7QG",
        "outputId": "d19e6951-fdc9-4bef-9927-22749e8436de"
      },
      "execution_count": null,
      "outputs": [
        {
          "output_type": "stream",
          "name": "stderr",
          "text": [
            "<ipython-input-14-ee47be2476d6>:8: UserWarning: To copy construct from a tensor, it is recommended to use sourceTensor.clone().detach() or sourceTensor.clone().detach().requires_grad_(True), rather than torch.tensor(sourceTensor).\n",
            "  labels = torch.tensor(labels, dtype=torch.long).to(device)\n"
          ]
        },
        {
          "output_type": "stream",
          "name": "stdout",
          "text": [
            "Epoch [1/30], Loss: 58.4467\n",
            "Epoch [2/30], Loss: 33.8667\n",
            "Epoch [3/30], Loss: 25.6772\n",
            "Epoch [4/30], Loss: 18.5113\n",
            "Epoch [5/30], Loss: 13.1414\n",
            "Epoch [6/30], Loss: 11.3647\n",
            "Epoch [7/30], Loss: 10.6258\n",
            "Epoch [8/30], Loss: 9.5556\n",
            "Epoch [9/30], Loss: 7.7430\n",
            "Epoch [10/30], Loss: 7.0042\n",
            "Epoch [11/30], Loss: 3.3002\n",
            "Epoch [12/30], Loss: 7.1699\n",
            "Epoch [13/30], Loss: 5.2127\n",
            "Epoch [14/30], Loss: 15.3463\n",
            "Epoch [15/30], Loss: 4.0050\n",
            "Epoch [16/30], Loss: 2.6722\n",
            "Epoch [17/30], Loss: 0.7573\n",
            "Epoch [18/30], Loss: 6.2748\n",
            "Epoch [19/30], Loss: 5.1692\n",
            "Epoch [20/30], Loss: 2.2986\n",
            "Epoch [21/30], Loss: 1.5070\n",
            "Epoch [22/30], Loss: 1.2201\n",
            "Epoch [23/30], Loss: 1.8476\n",
            "Epoch [24/30], Loss: 3.6670\n",
            "Epoch [25/30], Loss: 10.5746\n",
            "Epoch [26/30], Loss: 5.8788\n",
            "Epoch [27/30], Loss: 1.5920\n",
            "Epoch [28/30], Loss: 1.3679\n",
            "Epoch [29/30], Loss: 2.1473\n",
            "Epoch [30/30], Loss: 1.8251\n"
          ]
        }
      ]
    },
    {
      "cell_type": "code",
      "source": [
        "save_path = '/content/drive/My Drive/SharedFolder/model/resnet18.pth'\n",
        "os.makedirs(os.path.dirname(save_path), exist_ok=True)\n",
        "torch.save(model.state_dict(), save_path)\n",
        "print(f\"Model saved at {save_path}\")"
      ],
      "metadata": {
        "colab": {
          "base_uri": "https://localhost:8080/"
        },
        "id": "SMY4itPWZjiD",
        "outputId": "06e936c7-edb5-403e-8c3a-5d0838dc4adb"
      },
      "execution_count": null,
      "outputs": [
        {
          "output_type": "stream",
          "name": "stdout",
          "text": [
            "Model saved at /content/drive/My Drive/SharedFolder/model/resnet18.pth\n"
          ]
        }
      ]
    },
    {
      "cell_type": "code",
      "source": [
        "model.eval()\n",
        "correct = 0\n",
        "total = 0\n",
        "\n",
        "results = []\n",
        "\n",
        "with torch.no_grad():\n",
        "    for images, labels in train_loader:\n",
        "        images = images.to(device)\n",
        "        labels = labels.to(device)\n",
        "\n",
        "\n",
        "        outputs = model(images)\n",
        "        _, predicted = torch.max(outputs, 1)\n",
        "\n",
        "        total += labels.size(0)\n",
        "        correct += (predicted == labels).sum().item()\n",
        "\n",
        "        for i, prediction in enumerate(predicted):\n",
        "            img_name = test_dataset.data.iloc[i, 0]\n",
        "            predicted_class = idx_to_class[prediction.item()]\n",
        "            results.append([img_name, predicted_class])\n",
        "\n",
        "accuracy = 100 * correct / total\n",
        "print(f\"Test Accuracy: {accuracy:.2f}%\")"
      ],
      "metadata": {
        "colab": {
          "base_uri": "https://localhost:8080/"
        },
        "id": "ZNlM9KGAZlKk",
        "outputId": "012f870d-c2bf-45ba-aed9-5af6cdad236f"
      },
      "execution_count": null,
      "outputs": [
        {
          "output_type": "stream",
          "name": "stdout",
          "text": [
            "Test Accuracy: 0.00%\n"
          ]
        }
      ]
    }
  ]
}